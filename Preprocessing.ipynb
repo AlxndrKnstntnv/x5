{
 "cells": [
  {
   "cell_type": "code",
   "execution_count": 18,
   "metadata": {},
   "outputs": [],
   "source": [
    "import pandas as pd\n",
    "import numpy as np\n",
    "import seaborn as sns\n",
    "import matplotlib.pyplot as plt\n",
    "import warnings\n",
    "\n",
    "warnings.filterwarnings(\"ignore\")"
   ]
  },
  {
   "cell_type": "markdown",
   "metadata": {},
   "source": [
    "В данном файле показана предподготовка данных. Так как данные для анализа довольно массивные и могут не прогружаться в оперативную память целиком, можем создать вспомогательные файле. Тем более это должно ускорить взаимодействие с некоторыми столбцами, которые в сыром виде требуют предобработки."
   ]
  },
  {
   "cell_type": "markdown",
   "metadata": {},
   "source": [
    "Для начала посмотрим на датасет"
   ]
  },
  {
   "cell_type": "code",
   "execution_count": 2,
   "metadata": {},
   "outputs": [
    {
     "data": {
      "text/html": [
       "<div>\n",
       "<style scoped>\n",
       "    .dataframe tbody tr th:only-of-type {\n",
       "        vertical-align: middle;\n",
       "    }\n",
       "\n",
       "    .dataframe tbody tr th {\n",
       "        vertical-align: top;\n",
       "    }\n",
       "\n",
       "    .dataframe thead th {\n",
       "        text-align: right;\n",
       "    }\n",
       "</style>\n",
       "<table border=\"1\" class=\"dataframe\">\n",
       "  <thead>\n",
       "    <tr style=\"text-align: right;\">\n",
       "      <th></th>\n",
       "      <th>client_id</th>\n",
       "      <th>transaction_id</th>\n",
       "      <th>transaction_datetime</th>\n",
       "      <th>regular_points_received</th>\n",
       "      <th>express_points_received</th>\n",
       "      <th>regular_points_spent</th>\n",
       "      <th>express_points_spent</th>\n",
       "      <th>purchase_sum</th>\n",
       "      <th>store_id</th>\n",
       "      <th>product_id</th>\n",
       "      <th>product_quantity</th>\n",
       "      <th>trn_sum_from_iss</th>\n",
       "      <th>trn_sum_from_red</th>\n",
       "    </tr>\n",
       "  </thead>\n",
       "  <tbody>\n",
       "    <tr>\n",
       "      <th>0</th>\n",
       "      <td>000012768d</td>\n",
       "      <td>7e3e2e3984</td>\n",
       "      <td>2018-12-01 07:12:45</td>\n",
       "      <td>10.0</td>\n",
       "      <td>0.0</td>\n",
       "      <td>0.0</td>\n",
       "      <td>0.0</td>\n",
       "      <td>1007.0</td>\n",
       "      <td>54a4a11a29</td>\n",
       "      <td>9a80204f78</td>\n",
       "      <td>2.0</td>\n",
       "      <td>80.0</td>\n",
       "      <td>NaN</td>\n",
       "    </tr>\n",
       "  </tbody>\n",
       "</table>\n",
       "</div>"
      ],
      "text/plain": [
       "    client_id transaction_id transaction_datetime  regular_points_received  \\\n",
       "0  000012768d     7e3e2e3984  2018-12-01 07:12:45                     10.0   \n",
       "\n",
       "   express_points_received  regular_points_spent  express_points_spent  \\\n",
       "0                      0.0                   0.0                   0.0   \n",
       "\n",
       "   purchase_sum    store_id  product_id  product_quantity  trn_sum_from_iss  \\\n",
       "0        1007.0  54a4a11a29  9a80204f78               2.0              80.0   \n",
       "\n",
       "   trn_sum_from_red  \n",
       "0               NaN  "
      ]
     },
     "execution_count": 2,
     "metadata": {},
     "output_type": "execute_result"
    }
   ],
   "source": [
    "pd.read_csv('purchases.csv', nrows=1)"
   ]
  },
  {
   "cell_type": "markdown",
   "metadata": {},
   "source": [
    "**client_id** – id клиента\n",
    "\n",
    "**transaction_id** – id покупки\n",
    "\n",
    "**transaction_datetime** – время покупки\n",
    "\n",
    "**purchase_sum** – сумма покупки\n",
    "\n",
    "**trn_sum_from_iss**, **product_quantity** содержат информацию о составе покупки – сумма товара и его количество, соответственно. Однако в силу анонимности товаров, эта информация для анализа не подходит.\n",
    "\n",
    "**regular_points_received**, **express_points_received**, **regular_points_spent**, **express_points_spent** касаются начисления и расходования баллов лояльности. Пока оставим эти столбцы, возможно, потом они будут нам интересны."
   ]
  },
  {
   "cell_type": "code",
   "execution_count": 5,
   "metadata": {},
   "outputs": [
    {
     "data": {
      "text/html": [
       "<div>\n",
       "<style scoped>\n",
       "    .dataframe tbody tr th:only-of-type {\n",
       "        vertical-align: middle;\n",
       "    }\n",
       "\n",
       "    .dataframe tbody tr th {\n",
       "        vertical-align: top;\n",
       "    }\n",
       "\n",
       "    .dataframe thead th {\n",
       "        text-align: right;\n",
       "    }\n",
       "</style>\n",
       "<table border=\"1\" class=\"dataframe\">\n",
       "  <thead>\n",
       "    <tr style=\"text-align: right;\">\n",
       "      <th></th>\n",
       "      <th>client_id</th>\n",
       "      <th>first_issue_date</th>\n",
       "      <th>first_redeem_date</th>\n",
       "      <th>age</th>\n",
       "      <th>gender</th>\n",
       "    </tr>\n",
       "  </thead>\n",
       "  <tbody>\n",
       "    <tr>\n",
       "      <th>0</th>\n",
       "      <td>000012768d</td>\n",
       "      <td>2017-08-05 15:40:48</td>\n",
       "      <td>2018-01-04 19:30:07</td>\n",
       "      <td>45</td>\n",
       "      <td>U</td>\n",
       "    </tr>\n",
       "  </tbody>\n",
       "</table>\n",
       "</div>"
      ],
      "text/plain": [
       "    client_id     first_issue_date    first_redeem_date  age gender\n",
       "0  000012768d  2017-08-05 15:40:48  2018-01-04 19:30:07   45      U"
      ]
     },
     "execution_count": 5,
     "metadata": {},
     "output_type": "execute_result"
    }
   ],
   "source": [
    "pd.read_csv('clients.csv', nrows=1)"
   ]
  },
  {
   "cell_type": "markdown",
   "metadata": {},
   "source": [
    "**client_id** – id клиента\n",
    "\n",
    "**first_issue_date** – дата оформления карты лояльности\n",
    "\n",
    "**first_redeem_date** – дата первой покупки\n",
    "\n",
    "**age** – возраст клиента\n",
    "\n",
    "**gender** – пол клиента"
   ]
  },
  {
   "cell_type": "markdown",
   "metadata": {},
   "source": [
    "Нашей целью будет — убрать упоминание о времени покупки и оформлении карты лояльности, оставим только дату. Также оставим в стороне информацию о содержании покупки, поскольку через **product_id** проблематично оценить, какой это товар. В силу того, что срез в датасете сделан именно по клиентам, а информация о магазине, выраженная с помощью **store_id** также будет не пригодна для анализа (в некоторых магазинах указано несколько, а порой и одна покупка)."
   ]
  },
  {
   "cell_type": "code",
   "execution_count": 9,
   "metadata": {},
   "outputs": [],
   "source": [
    "purchases = pd.read_csv('purchases.csv', usecols=['client_id', 'transaction_id', 'transaction_datetime', 'purchase_sum'])\n",
    "clients = pd.read_csv('clients.csv', usecols=['client_id', 'first_issue_date', 'age', 'gender'])"
   ]
  },
  {
   "cell_type": "code",
   "execution_count": 10,
   "metadata": {},
   "outputs": [
    {
     "data": {
      "text/html": [
       "<div>\n",
       "<style scoped>\n",
       "    .dataframe tbody tr th:only-of-type {\n",
       "        vertical-align: middle;\n",
       "    }\n",
       "\n",
       "    .dataframe tbody tr th {\n",
       "        vertical-align: top;\n",
       "    }\n",
       "\n",
       "    .dataframe thead th {\n",
       "        text-align: right;\n",
       "    }\n",
       "</style>\n",
       "<table border=\"1\" class=\"dataframe\">\n",
       "  <thead>\n",
       "    <tr style=\"text-align: right;\">\n",
       "      <th></th>\n",
       "      <th>client_id</th>\n",
       "      <th>transaction_id</th>\n",
       "      <th>transaction_datetime</th>\n",
       "      <th>purchase_sum</th>\n",
       "    </tr>\n",
       "  </thead>\n",
       "  <tbody>\n",
       "    <tr>\n",
       "      <th>0</th>\n",
       "      <td>000012768d</td>\n",
       "      <td>7e3e2e3984</td>\n",
       "      <td>2018-12-01 07:12:45</td>\n",
       "      <td>1007.0</td>\n",
       "    </tr>\n",
       "    <tr>\n",
       "      <th>1</th>\n",
       "      <td>000012768d</td>\n",
       "      <td>7e3e2e3984</td>\n",
       "      <td>2018-12-01 07:12:45</td>\n",
       "      <td>1007.0</td>\n",
       "    </tr>\n",
       "    <tr>\n",
       "      <th>2</th>\n",
       "      <td>000012768d</td>\n",
       "      <td>7e3e2e3984</td>\n",
       "      <td>2018-12-01 07:12:45</td>\n",
       "      <td>1007.0</td>\n",
       "    </tr>\n",
       "    <tr>\n",
       "      <th>3</th>\n",
       "      <td>000012768d</td>\n",
       "      <td>7e3e2e3984</td>\n",
       "      <td>2018-12-01 07:12:45</td>\n",
       "      <td>1007.0</td>\n",
       "    </tr>\n",
       "    <tr>\n",
       "      <th>4</th>\n",
       "      <td>000012768d</td>\n",
       "      <td>7e3e2e3984</td>\n",
       "      <td>2018-12-01 07:12:45</td>\n",
       "      <td>1007.0</td>\n",
       "    </tr>\n",
       "  </tbody>\n",
       "</table>\n",
       "</div>"
      ],
      "text/plain": [
       "    client_id transaction_id transaction_datetime  purchase_sum\n",
       "0  000012768d     7e3e2e3984  2018-12-01 07:12:45        1007.0\n",
       "1  000012768d     7e3e2e3984  2018-12-01 07:12:45        1007.0\n",
       "2  000012768d     7e3e2e3984  2018-12-01 07:12:45        1007.0\n",
       "3  000012768d     7e3e2e3984  2018-12-01 07:12:45        1007.0\n",
       "4  000012768d     7e3e2e3984  2018-12-01 07:12:45        1007.0"
      ]
     },
     "execution_count": 10,
     "metadata": {},
     "output_type": "execute_result"
    }
   ],
   "source": [
    "purchases.head()"
   ]
  },
  {
   "cell_type": "code",
   "execution_count": 11,
   "metadata": {},
   "outputs": [
    {
     "data": {
      "text/html": [
       "<div>\n",
       "<style scoped>\n",
       "    .dataframe tbody tr th:only-of-type {\n",
       "        vertical-align: middle;\n",
       "    }\n",
       "\n",
       "    .dataframe tbody tr th {\n",
       "        vertical-align: top;\n",
       "    }\n",
       "\n",
       "    .dataframe thead th {\n",
       "        text-align: right;\n",
       "    }\n",
       "</style>\n",
       "<table border=\"1\" class=\"dataframe\">\n",
       "  <thead>\n",
       "    <tr style=\"text-align: right;\">\n",
       "      <th></th>\n",
       "      <th>client_id</th>\n",
       "      <th>first_issue_date</th>\n",
       "    </tr>\n",
       "  </thead>\n",
       "  <tbody>\n",
       "    <tr>\n",
       "      <th>0</th>\n",
       "      <td>000012768d</td>\n",
       "      <td>2017-08-05 15:40:48</td>\n",
       "    </tr>\n",
       "    <tr>\n",
       "      <th>1</th>\n",
       "      <td>000036f903</td>\n",
       "      <td>2017-04-10 13:54:23</td>\n",
       "    </tr>\n",
       "    <tr>\n",
       "      <th>2</th>\n",
       "      <td>000048b7a6</td>\n",
       "      <td>2018-12-15 13:33:11</td>\n",
       "    </tr>\n",
       "    <tr>\n",
       "      <th>3</th>\n",
       "      <td>000073194a</td>\n",
       "      <td>2017-05-23 12:56:14</td>\n",
       "    </tr>\n",
       "    <tr>\n",
       "      <th>4</th>\n",
       "      <td>00007c7133</td>\n",
       "      <td>2017-05-22 16:17:08</td>\n",
       "    </tr>\n",
       "  </tbody>\n",
       "</table>\n",
       "</div>"
      ],
      "text/plain": [
       "    client_id     first_issue_date\n",
       "0  000012768d  2017-08-05 15:40:48\n",
       "1  000036f903  2017-04-10 13:54:23\n",
       "2  000048b7a6  2018-12-15 13:33:11\n",
       "3  000073194a  2017-05-23 12:56:14\n",
       "4  00007c7133  2017-05-22 16:17:08"
      ]
     },
     "execution_count": 11,
     "metadata": {},
     "output_type": "execute_result"
    }
   ],
   "source": [
    "clients.head()"
   ]
  },
  {
   "cell_type": "code",
   "execution_count": 12,
   "metadata": {},
   "outputs": [],
   "source": [
    "# Оставим только дату\n",
    "purchases.transaction_datetime = pd.to_datetime(purchases.transaction_datetime).dt.date\n",
    "# Для ускорения процессов переведем суммы покупок в формат int, копейки не сыграют большой роли в результатах\n",
    "purchases.purchase_sum = purchases.purchase_sum.astype(int)"
   ]
  },
  {
   "cell_type": "markdown",
   "metadata": {},
   "source": [
    "Пришло время убрать дубликаты из таблицы. Они возникли в силу того, что каждая запись представляет собой отдельную покупку. Поэтому в графе **transaction_id** для каждого товара указана id покупки и **purchase_sum** сумма покупки в целом.\n",
    "\n",
    "Так как мы знаем, что в колонках **transaction_datetime**, **purchase_sum** для одинаковых транзакций значения одинаковые, можем ускорить процесс и воспользоваться groupby, а затем агрегировать значения по столбцу, выбирая максимальное. Это будет быстрее, чем drop_duplicates. "
   ]
  },
  {
   "cell_type": "code",
   "execution_count": 17,
   "metadata": {},
   "outputs": [],
   "source": [
    "purchases = purchases.groupby(['client_id','transaction_id']).agg({'transaction_datetime': 'max', \n",
    "                                                                     'purchase_sum': 'max'}).reset_index()"
   ]
  },
  {
   "cell_type": "code",
   "execution_count": 20,
   "metadata": {},
   "outputs": [
    {
     "data": {
      "text/html": [
       "<div>\n",
       "<style scoped>\n",
       "    .dataframe tbody tr th:only-of-type {\n",
       "        vertical-align: middle;\n",
       "    }\n",
       "\n",
       "    .dataframe tbody tr th {\n",
       "        vertical-align: top;\n",
       "    }\n",
       "\n",
       "    .dataframe thead th {\n",
       "        text-align: right;\n",
       "    }\n",
       "</style>\n",
       "<table border=\"1\" class=\"dataframe\">\n",
       "  <thead>\n",
       "    <tr style=\"text-align: right;\">\n",
       "      <th></th>\n",
       "      <th>client_id</th>\n",
       "      <th>transaction_id</th>\n",
       "      <th>transaction_datetime</th>\n",
       "      <th>purchase_sum</th>\n",
       "    </tr>\n",
       "  </thead>\n",
       "  <tbody>\n",
       "    <tr>\n",
       "      <th>0</th>\n",
       "      <td>000012768d</td>\n",
       "      <td>6a0e96d0bc</td>\n",
       "      <td>2019-03-08</td>\n",
       "      <td>803</td>\n",
       "    </tr>\n",
       "    <tr>\n",
       "      <th>1</th>\n",
       "      <td>000012768d</td>\n",
       "      <td>7e3e2e3984</td>\n",
       "      <td>2018-12-01</td>\n",
       "      <td>1007</td>\n",
       "    </tr>\n",
       "    <tr>\n",
       "      <th>2</th>\n",
       "      <td>000012768d</td>\n",
       "      <td>b34f23306e</td>\n",
       "      <td>2019-03-14</td>\n",
       "      <td>419</td>\n",
       "    </tr>\n",
       "    <tr>\n",
       "      <th>3</th>\n",
       "      <td>000012768d</td>\n",
       "      <td>c1ca85d462</td>\n",
       "      <td>2018-12-16</td>\n",
       "      <td>574</td>\n",
       "    </tr>\n",
       "    <tr>\n",
       "      <th>4</th>\n",
       "      <td>000036f903</td>\n",
       "      <td>0a3d640bf4</td>\n",
       "      <td>2018-12-21</td>\n",
       "      <td>700</td>\n",
       "    </tr>\n",
       "  </tbody>\n",
       "</table>\n",
       "</div>"
      ],
      "text/plain": [
       "    client_id transaction_id transaction_datetime  purchase_sum\n",
       "0  000012768d     6a0e96d0bc           2019-03-08           803\n",
       "1  000012768d     7e3e2e3984           2018-12-01          1007\n",
       "2  000012768d     b34f23306e           2019-03-14           419\n",
       "3  000012768d     c1ca85d462           2018-12-16           574\n",
       "4  000036f903     0a3d640bf4           2018-12-21           700"
      ]
     },
     "execution_count": 20,
     "metadata": {},
     "output_type": "execute_result"
    }
   ],
   "source": [
    "purchases.head()"
   ]
  },
  {
   "cell_type": "code",
   "execution_count": 25,
   "metadata": {},
   "outputs": [],
   "source": [
    "# Оставим только дату в столбце таблицы клиентов\n",
    "clients.first_issue_date = pd.to_datetime(clients.first_issue_date).dt.date"
   ]
  },
  {
   "cell_type": "code",
   "execution_count": 26,
   "metadata": {},
   "outputs": [
    {
     "data": {
      "text/html": [
       "<div>\n",
       "<style scoped>\n",
       "    .dataframe tbody tr th:only-of-type {\n",
       "        vertical-align: middle;\n",
       "    }\n",
       "\n",
       "    .dataframe tbody tr th {\n",
       "        vertical-align: top;\n",
       "    }\n",
       "\n",
       "    .dataframe thead th {\n",
       "        text-align: right;\n",
       "    }\n",
       "</style>\n",
       "<table border=\"1\" class=\"dataframe\">\n",
       "  <thead>\n",
       "    <tr style=\"text-align: right;\">\n",
       "      <th></th>\n",
       "      <th>client_id</th>\n",
       "      <th>first_issue_date</th>\n",
       "      <th>age</th>\n",
       "      <th>gender</th>\n",
       "    </tr>\n",
       "  </thead>\n",
       "  <tbody>\n",
       "    <tr>\n",
       "      <th>0</th>\n",
       "      <td>000012768d</td>\n",
       "      <td>2017-08-05</td>\n",
       "      <td>45</td>\n",
       "      <td>U</td>\n",
       "    </tr>\n",
       "    <tr>\n",
       "      <th>1</th>\n",
       "      <td>000036f903</td>\n",
       "      <td>2017-04-10</td>\n",
       "      <td>72</td>\n",
       "      <td>F</td>\n",
       "    </tr>\n",
       "    <tr>\n",
       "      <th>2</th>\n",
       "      <td>000048b7a6</td>\n",
       "      <td>2018-12-15</td>\n",
       "      <td>68</td>\n",
       "      <td>F</td>\n",
       "    </tr>\n",
       "    <tr>\n",
       "      <th>3</th>\n",
       "      <td>000073194a</td>\n",
       "      <td>2017-05-23</td>\n",
       "      <td>60</td>\n",
       "      <td>F</td>\n",
       "    </tr>\n",
       "    <tr>\n",
       "      <th>4</th>\n",
       "      <td>00007c7133</td>\n",
       "      <td>2017-05-22</td>\n",
       "      <td>67</td>\n",
       "      <td>U</td>\n",
       "    </tr>\n",
       "  </tbody>\n",
       "</table>\n",
       "</div>"
      ],
      "text/plain": [
       "    client_id first_issue_date  age gender\n",
       "0  000012768d       2017-08-05   45      U\n",
       "1  000036f903       2017-04-10   72      F\n",
       "2  000048b7a6       2018-12-15   68      F\n",
       "3  000073194a       2017-05-23   60      F\n",
       "4  00007c7133       2017-05-22   67      U"
      ]
     },
     "execution_count": 26,
     "metadata": {},
     "output_type": "execute_result"
    }
   ],
   "source": [
    "clients.head()"
   ]
  },
  {
   "cell_type": "code",
   "execution_count": 29,
   "metadata": {},
   "outputs": [],
   "source": [
    "# Добавим информацию о клиенте в таблицу с покупками, чтобы не повторять объединение таблиц постоянно\n",
    "purchases = pd.merge(purchases, clients, on='client_id', how='left')"
   ]
  },
  {
   "cell_type": "code",
   "execution_count": 31,
   "metadata": {},
   "outputs": [],
   "source": [
    "# Столбец transaction_id нам больше не нужен, поскольку каждая запись представляет собой отдельную покупку, дубликатов больше нет\n",
    "purchases.drop(['transaction_id'], axis=1, inplace=True)"
   ]
  },
  {
   "cell_type": "code",
   "execution_count": 62,
   "metadata": {},
   "outputs": [],
   "source": [
    "purchases['days_since_card'] = pd.to_timedelta(purchases.transaction_datetime - purchases.first_issue_date).dt.days\n",
    "purchases['weeks_since_card'] = purchases.days_since_card // 7\n",
    "# Важно помнить, что в этом столбце значение 0 показывает, что клиент пользуется картой менее недели"
   ]
  },
  {
   "cell_type": "markdown",
   "metadata": {},
   "source": [
    "Итак, мы получили таблицу, которая ускорит работу с данными. Поскольку вся работа представляет собой взаимодействие с информацией о покупке, а не о товаре, то, удалив записи о товарах, мы не потеряли ценной информации."
   ]
  },
  {
   "cell_type": "code",
   "execution_count": 68,
   "metadata": {},
   "outputs": [
    {
     "data": {
      "text/html": [
       "<div>\n",
       "<style scoped>\n",
       "    .dataframe tbody tr th:only-of-type {\n",
       "        vertical-align: middle;\n",
       "    }\n",
       "\n",
       "    .dataframe tbody tr th {\n",
       "        vertical-align: top;\n",
       "    }\n",
       "\n",
       "    .dataframe thead th {\n",
       "        text-align: right;\n",
       "    }\n",
       "</style>\n",
       "<table border=\"1\" class=\"dataframe\">\n",
       "  <thead>\n",
       "    <tr style=\"text-align: right;\">\n",
       "      <th></th>\n",
       "      <th>client_id</th>\n",
       "      <th>transaction_datetime</th>\n",
       "      <th>purchase_sum</th>\n",
       "      <th>first_issue_date</th>\n",
       "      <th>age</th>\n",
       "      <th>gender</th>\n",
       "      <th>days_since_card</th>\n",
       "      <th>weeks_since_card</th>\n",
       "    </tr>\n",
       "  </thead>\n",
       "  <tbody>\n",
       "    <tr>\n",
       "      <th>0</th>\n",
       "      <td>000012768d</td>\n",
       "      <td>2019-03-08</td>\n",
       "      <td>803</td>\n",
       "      <td>2017-08-05</td>\n",
       "      <td>45</td>\n",
       "      <td>U</td>\n",
       "      <td>580</td>\n",
       "      <td>82</td>\n",
       "    </tr>\n",
       "    <tr>\n",
       "      <th>1</th>\n",
       "      <td>000012768d</td>\n",
       "      <td>2018-12-01</td>\n",
       "      <td>1007</td>\n",
       "      <td>2017-08-05</td>\n",
       "      <td>45</td>\n",
       "      <td>U</td>\n",
       "      <td>483</td>\n",
       "      <td>69</td>\n",
       "    </tr>\n",
       "    <tr>\n",
       "      <th>2</th>\n",
       "      <td>000012768d</td>\n",
       "      <td>2019-03-14</td>\n",
       "      <td>419</td>\n",
       "      <td>2017-08-05</td>\n",
       "      <td>45</td>\n",
       "      <td>U</td>\n",
       "      <td>586</td>\n",
       "      <td>83</td>\n",
       "    </tr>\n",
       "    <tr>\n",
       "      <th>3</th>\n",
       "      <td>000012768d</td>\n",
       "      <td>2018-12-16</td>\n",
       "      <td>574</td>\n",
       "      <td>2017-08-05</td>\n",
       "      <td>45</td>\n",
       "      <td>U</td>\n",
       "      <td>498</td>\n",
       "      <td>71</td>\n",
       "    </tr>\n",
       "    <tr>\n",
       "      <th>4</th>\n",
       "      <td>000036f903</td>\n",
       "      <td>2018-12-21</td>\n",
       "      <td>700</td>\n",
       "      <td>2017-04-10</td>\n",
       "      <td>72</td>\n",
       "      <td>F</td>\n",
       "      <td>620</td>\n",
       "      <td>88</td>\n",
       "    </tr>\n",
       "  </tbody>\n",
       "</table>\n",
       "</div>"
      ],
      "text/plain": [
       "    client_id transaction_datetime  purchase_sum first_issue_date  age gender  \\\n",
       "0  000012768d           2019-03-08           803       2017-08-05   45      U   \n",
       "1  000012768d           2018-12-01          1007       2017-08-05   45      U   \n",
       "2  000012768d           2019-03-14           419       2017-08-05   45      U   \n",
       "3  000012768d           2018-12-16           574       2017-08-05   45      U   \n",
       "4  000036f903           2018-12-21           700       2017-04-10   72      F   \n",
       "\n",
       "   days_since_card  weeks_since_card  \n",
       "0              580                82  \n",
       "1              483                69  \n",
       "2              586                83  \n",
       "3              498                71  \n",
       "4              620                88  "
      ]
     },
     "execution_count": 68,
     "metadata": {},
     "output_type": "execute_result"
    }
   ],
   "source": [
    "purchases.head()"
   ]
  },
  {
   "cell_type": "markdown",
   "metadata": {},
   "source": [
    "Сохраним таблицу в csv."
   ]
  },
  {
   "cell_type": "code",
   "execution_count": 70,
   "metadata": {},
   "outputs": [],
   "source": [
    "purchases.to_csv('purchases_processed.csv', index=False)"
   ]
  }
 ],
 "metadata": {
  "kernelspec": {
   "display_name": "Python 3",
   "language": "python",
   "name": "python3"
  },
  "language_info": {
   "codemirror_mode": {
    "name": "ipython",
    "version": 3
   },
   "file_extension": ".py",
   "mimetype": "text/x-python",
   "name": "python",
   "nbconvert_exporter": "python",
   "pygments_lexer": "ipython3",
   "version": "3.12.0"
  }
 },
 "nbformat": 4,
 "nbformat_minor": 2
}
